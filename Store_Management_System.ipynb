{
 "cells": [
  {
   "cell_type": "code",
   "execution_count": 1,
   "id": "12a86dd7",
   "metadata": {},
   "outputs": [],
   "source": [
    "groceries = {\n",
    "    'rice': [1, '100kg', '50/kg'],\n",
    "    'sugar': [2, '200kg', '40/kg'],\n",
    "    'refind oil': [3, '150lt', '110/lt'],\n",
    "    'biscuits': {\n",
    "        'oreo': [401,'500', '10/packet'],\n",
    "        'nutri choice': [403,'600', '40/packet'],\n",
    "        'bourbon': [405,'450', '20/packet']\n",
    "    }\n",
    "}\n",
    "\n",
    "admin = {\n",
    "    '1': {'username': 'rahul', 'password': '123'},\n",
    "    '2': {'username': 'admin', 'password': '456'}\n",
    "}"
   ]
  },
  {
   "cell_type": "code",
   "execution_count": 2,
   "id": "28c63a12",
   "metadata": {},
   "outputs": [],
   "source": [
    "from getpass import getpass"
   ]
  },
  {
   "cell_type": "code",
   "execution_count": 3,
   "id": "4196b3d5",
   "metadata": {},
   "outputs": [],
   "source": [
    "def login():\n",
    "    usernames=[]\n",
    "    passwords=[]\n",
    "    last=(list(admin.keys())[-1])     #Number of  admin\n",
    "    for i in range(1,int(last)+1):\n",
    "        usernames.append((admin[str(i)]['username']))\n",
    "        passwords.append((admin[str(i)]['password']))\n",
    "\n",
    "    # Taking the username and password from user\n",
    "    user=input(\"\\nEnter the username : \")\n",
    "    pass_=getpass(\"\\nEnter the password : \")\n",
    "\n",
    "    #Checking the credentials   \n",
    "    if (user,pass_) in zip(usernames,passwords):\n",
    "        print(\"\\nYou are successfuly logged in . . . \".center(100,\" \"))\n",
    "        print(\"\\n\")\n",
    "        return True\n",
    "    else:\n",
    "        print(\"\\nYou entered wrong username or password . . .\")\n",
    "    return False\n",
    "\n",
    "def showdetail():\n",
    "    for key,value in groceries.items():\n",
    "        print(key,\" --> \",value)\n",
    "        \n",
    "def add_groc():\n",
    "    ch=int(input(\"1.Add in Subpart \\n2.Add directly\\n\"))\n",
    "#     id_=[]\n",
    "#     for key in groceries.keys():\n",
    "#         id_.append(groceries[keys][0])\n",
    "    if ch==1:\n",
    "        item=input(\"Enter the item name : \")\n",
    "        groceries[item]={}\n",
    "        for i in range(int(input(\"Enter the number of subparts : \"))):\n",
    "            subitem=input(\"Enter the name of subitem : \")\n",
    "            subitem_id=int(input(\"Enter the id of subitem : \"))\n",
    "            subitem_stock=input(\"Enter the stock of subitem : \")\n",
    "            subitem_price=input(\"Enter the price of subitem : \")\n",
    "            groceries[item][subitem]=[subitem_id,subitem_stock,subitem_price]\n",
    "    elif ch==2:\n",
    "        item=input(\"Enter the item name : \")\n",
    "        item_id=int(input(\"Enter the id of item : \"))\n",
    "#         if item_id in id_:\n",
    "#             print(\"\\nID already existed..Please enter other id\")\n",
    "#             item_id=int(input(\"Enter the id of item : \"))\n",
    "        item_stock=input(\"Enter the stock of item : \")\n",
    "        item_price=input(\"Enter the price of item : \")\n",
    "        groceries[item]=[item_id,item_stock,item_price]\n",
    "    else:\n",
    "        print(\"\\nEnter valid choice\")\n",
    "    "
   ]
  },
  {
   "cell_type": "code",
   "execution_count": 4,
   "id": "5bb7ca1d",
   "metadata": {},
   "outputs": [],
   "source": [
    "def remove_groc():\n",
    "    showdetail()\n",
    "    ch=int(input(\"\\n1.Remove from Subpart \\n2.Remove directly\\n\"))\n",
    "    if ch==1:\n",
    "        item=input(\"\\nEnter the name of item : \")\n",
    "        subitem=input(\"\\nEnter the name of subitem you want to remove : \")\n",
    "        del groceries[item][subitem]\n",
    "    elif ch==2:\n",
    "        item=input(\"\\nEnter the item name : \")\n",
    "        del groceries[item]"
   ]
  },
  {
   "cell_type": "code",
   "execution_count": 5,
   "id": "4ccadedd",
   "metadata": {},
   "outputs": [],
   "source": [
    "def update_price():\n",
    "    showdetail()\n",
    "    ch=int(input(\"\\n1.Update price from Subpart \\n2.Update price directly\\n\"))\n",
    "    if ch==1:\n",
    "        item=input(\"\\nEnter the name of item : \")\n",
    "        subitem=input(\"\\nEnter the name of subitem you want to update the price : \")\n",
    "        subitem_price=input(\"\\nEter the price : \")\n",
    "        groceries[item][subitem][2]=subitem_price\n",
    "    elif ch==2:\n",
    "        item=input(\"\\nEnter the item name : \")\n",
    "        item_price=input(\"\\nEnter the price you want to update : \")\n",
    "        groceries[item][2]=item_price\n",
    "\n",
    "def update_stock():\n",
    "    showdetail()\n",
    "    ch=int(input(\"\\n1.Update stock from Subpart \\n2.Update stock directly\\n\"))\n",
    "    if ch==1:\n",
    "        item=input(\"\\nEnter the name of item : \")\n",
    "        subitem=input(\"\\nEnter the name of subitem you want to update the stock : \")\n",
    "        subitem_stock=input(\"\\nEter the stock : \")\n",
    "        groceries[item][subitem][1]=subitem_stock\n",
    "    elif ch==2:\n",
    "        item=input(\"\\nEnter the item name : \")\n",
    "        item_stock=input(\"\\nEnter the stock you want to update : \")\n",
    "        groceries[item][2]=item_stock\n",
    "    "
   ]
  },
  {
   "cell_type": "code",
   "execution_count": 6,
   "id": "72a8d4f5",
   "metadata": {},
   "outputs": [],
   "source": [
    "def signup():\n",
    "    last=(list(admin.keys())[-1])\n",
    "    new=int(last)+1\n",
    "    usernames=[]\n",
    "    for i in range(1,int(last)+1):\n",
    "        usernames.append((admin[str(i)]['username']))\n",
    "    username=input(\"\\nEnter the username : \")\n",
    "    if username in usernames:                          #check if username already exist\n",
    "        print()\n",
    "        print(\"User already exists..Please try another name..!!\".center(100,\" \"))\n",
    "    else:\n",
    "        password=getpass(\"\\nEnter password : \")\n",
    "        if password_validate(password):\n",
    "            admin[str(new)]={'username': username, 'password': password}\n",
    "\n",
    "            print(\"\\nUser created successfully\".center(100,\" \"))\n",
    "        else:\n",
    "            print(\"\\nEnter a valid password..!!\")\n",
    "        \n",
    "def password_validate(passw):\n",
    "    upper=0\n",
    "    lower=0\n",
    "    num=0\n",
    "    s=0\n",
    "    sp='\"]@_!#$%^&*()<>?/|}{~:[\"'\n",
    "    if len(passw)>=8:\n",
    "        for i in passw:\n",
    "            if i.islower():\n",
    "                lower+=1\n",
    "            if i.isupper():\n",
    "                upper+=1\n",
    "            if i.isnumeric():\n",
    "                num+=1\n",
    "            if i in sp:\n",
    "                s+=1\n",
    "        if lower>0 and upper>0 and num>0 and s>0:\n",
    "            return True\n",
    "            \n",
    "    return False"
   ]
  },
  {
   "cell_type": "code",
   "execution_count": null,
   "id": "23ed6c6d",
   "metadata": {},
   "outputs": [
    {
     "name": "stdout",
     "output_type": "stream",
     "text": [
      "\n",
      "1. Admin Login \n",
      "\n",
      "2. Admin Signup \n",
      "\n",
      "3. Exit \n",
      "\n",
      "Enter your choice :- 2\n",
      "\n",
      "Enter the username : rahul\n",
      "\n",
      "                          User already exists..Please try another name..!!                          \n",
      "\n",
      "1. Admin Login \n",
      "\n",
      "2. Admin Signup \n",
      "\n",
      "3. Exit \n",
      "\n",
      "Enter your choice :- 2\n",
      "\n",
      "Enter the username : rahul09\n"
     ]
    }
   ],
   "source": [
    "while True:\n",
    "    print('\\n1. Admin Login ')\n",
    "    print('\\n2. Admin Signup ')\n",
    "    print('\\n3. Exit ')\n",
    "    choice=int(input(\"\\nEnter your choice :- \"))\n",
    "    \n",
    "    if choice==1:                         #Admin Login\n",
    "        if login():\n",
    "            while True:\n",
    "                choice_in_groc=int(input(\"\\n(1) Grocery Details\\n(2) Add Grocery\\n(3) Remove Grocery\\n(4) Update Price\\n(5) Update Stock\\n(6) Log Out\\n\"))\n",
    "\n",
    "                if choice_in_groc==1:\n",
    "                    showdetail()\n",
    "                elif choice_in_groc==2:\n",
    "                    add_groc()\n",
    "                elif choice_in_groc==3:\n",
    "                    remove_groc()\n",
    "                elif choice_in_groc==4:\n",
    "                    update_price()\n",
    "                elif choice_in_groc==5:\n",
    "                    update_stock()\n",
    "                elif choice_in_groc==6:\n",
    "                    print(\"\\nLogging Out. . .\")\n",
    "                    break\n",
    "                else:\n",
    "                    print(\"\\nEnter correct choicce..!!\")\n",
    "            \n",
    "\n",
    "            \n",
    "            \n",
    "    elif choice == 2:                      #Admin Signup\n",
    "        signup()\n",
    "  \n",
    "\n",
    "    elif choice == 3:\n",
    "        print()\n",
    "        print(\" Thank You for using our services . . . \".center(100,\"*\"))\n",
    "        break\n",
    "\n",
    "        \n",
    "    \n",
    "    else:\n",
    "        print(\"\\nEnter the correct choice \")\n",
    "    "
   ]
  },
  {
   "cell_type": "code",
   "execution_count": 11,
   "id": "d7ecec65",
   "metadata": {},
   "outputs": [
    {
     "name": "stdout",
     "output_type": "stream",
     "text": [
      "{'rice': [1, '100kg', '50/kg'], 'sugar': [2, '200kg', '40/kg'], 'refind oil': [3, '150lt', '110/lt'], 'biscuits': {}, 'sprite': [101, '30 bottles', '40/l']}\n"
     ]
    }
   ],
   "source": [
    "print(groceries)"
   ]
  },
  {
   "cell_type": "code",
   "execution_count": 12,
   "id": "079801dc",
   "metadata": {},
   "outputs": [
    {
     "name": "stdout",
     "output_type": "stream",
     "text": [
      "{'1': {'username': 'rahul', 'password': '123'}, '2': {'username': 'admin', 'password': '456'}}\n"
     ]
    }
   ],
   "source": [
    "print(admin)"
   ]
  },
  {
   "cell_type": "code",
   "execution_count": null,
   "id": "169e478a",
   "metadata": {},
   "outputs": [],
   "source": []
  }
 ],
 "metadata": {
  "kernelspec": {
   "display_name": "Python 3 (ipykernel)",
   "language": "python",
   "name": "python3"
  },
  "language_info": {
   "codemirror_mode": {
    "name": "ipython",
    "version": 3
   },
   "file_extension": ".py",
   "mimetype": "text/x-python",
   "name": "python",
   "nbconvert_exporter": "python",
   "pygments_lexer": "ipython3",
   "version": "3.9.13"
  }
 },
 "nbformat": 4,
 "nbformat_minor": 5
}
